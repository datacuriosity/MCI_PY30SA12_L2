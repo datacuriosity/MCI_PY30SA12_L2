{
 "cells": [
  {
   "cell_type": "markdown",
   "id": "bad7e001",
   "metadata": {},
   "source": [
    "![](https://adatis.co.uk/wp-content/uploads/GradientDescentGIF.gif)"
   ]
  },
  {
   "cell_type": "markdown",
   "id": "859817d1",
   "metadata": {},
   "source": [
    "![](https://cdn-images-1.medium.com/max/1440/0*A351v9EkS6Ps2zIg.gif)"
   ]
  },
  {
   "cell_type": "markdown",
   "id": "ea91a3e7",
   "metadata": {},
   "source": [
    "![](https://miro.medium.com/max/1400/0*K0ltbXIgtNLEXsXN.png)"
   ]
  },
  {
   "cell_type": "markdown",
   "id": "45c452bf",
   "metadata": {},
   "source": [
    "- Hyperparameters: arguments in machine learning model\n",
    "- Parameters: arguments in normal function def"
   ]
  },
  {
   "cell_type": "markdown",
   "id": "0164621c",
   "metadata": {},
   "source": [
    "- Simple\n",
    "- Standardization\n",
    "- Normalization: MinMaxScaler\n",
    "- Robust Scaler"
   ]
  },
  {
   "cell_type": "code",
   "execution_count": null,
   "id": "ea8810b5",
   "metadata": {},
   "outputs": [],
   "source": []
  }
 ],
 "metadata": {
  "kernelspec": {
   "display_name": "Python 3 (ipykernel)",
   "language": "python",
   "name": "python3"
  },
  "language_info": {
   "codemirror_mode": {
    "name": "ipython",
    "version": 3
   },
   "file_extension": ".py",
   "mimetype": "text/x-python",
   "name": "python",
   "nbconvert_exporter": "python",
   "pygments_lexer": "ipython3",
   "version": "3.8.12"
  }
 },
 "nbformat": 4,
 "nbformat_minor": 5
}
