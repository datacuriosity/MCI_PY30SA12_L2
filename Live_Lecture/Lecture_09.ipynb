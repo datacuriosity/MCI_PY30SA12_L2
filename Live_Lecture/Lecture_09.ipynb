{
 "cells": [
  {
   "cell_type": "markdown",
   "id": "73e1bc1a",
   "metadata": {},
   "source": [
    "![](https://i.ytimg.com/vi/QNxNCgtWSaY/maxresdefault.jpg)"
   ]
  },
  {
   "cell_type": "markdown",
   "id": "8cca6e17",
   "metadata": {},
   "source": [
    "![](https://miro.medium.com/max/550/1*-LydhQEDyg-4yy5hGEj5wA.png)"
   ]
  },
  {
   "cell_type": "markdown",
   "id": "382734f1",
   "metadata": {},
   "source": [
    "![](https://media.geeksforgeeks.org/wp-content/uploads/20200723010928/Elastic_1.png)"
   ]
  },
  {
   "cell_type": "markdown",
   "id": "cfa97a9d",
   "metadata": {},
   "source": [
    "![](https://miro.medium.com/max/1400/1*Q8BhgHMs2PzXNIqzflgxjA.png)"
   ]
  },
  {
   "cell_type": "markdown",
   "id": "06b17ab9",
   "metadata": {},
   "source": [
    "Ensemble learning\n",
    "- Bagging: Boostrap Aggregation --> low bias, high variance --> low bias, low variance: Random Forest\n",
    "- Boosting: high bias, low variance --> low bias, low variance: Gradient Boosting\n",
    "- Stacking: high evaluation metric, high variance --> high evaluation metric + low variance"
   ]
  },
  {
   "cell_type": "code",
   "execution_count": null,
   "id": "dba32c7d",
   "metadata": {},
   "outputs": [],
   "source": []
  }
 ],
 "metadata": {
  "kernelspec": {
   "display_name": "Python 3 (ipykernel)",
   "language": "python",
   "name": "python3"
  },
  "language_info": {
   "codemirror_mode": {
    "name": "ipython",
    "version": 3
   },
   "file_extension": ".py",
   "mimetype": "text/x-python",
   "name": "python",
   "nbconvert_exporter": "python",
   "pygments_lexer": "ipython3",
   "version": "3.8.12"
  }
 },
 "nbformat": 4,
 "nbformat_minor": 5
}
